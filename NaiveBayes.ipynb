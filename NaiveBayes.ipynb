{
 "cells": [
  {
   "cell_type": "markdown",
   "id": "d0c68bc7",
   "metadata": {},
   "source": [
    "# A review of basic concepts in the field of Machine Learning, Artificial Intelligence and Data Mining"
   ]
  },
  {
   "cell_type": "markdown",
   "id": "2c27afe9",
   "metadata": {},
   "source": [
    "## First, we define the classification problem in the context of supervised learning:\n",
    "### Given that X is a space of feature vectors and C a set of classes, we assume there is a function c - which is generally unknown - that enables the error-free classification of \n",
    "### c : X &rarr; C\n",
    "### Generally, we only know a subset of a samples in the form of:\n",
    "### D = {(x_1, c(x_1)), (x_2, c(x_2)),...,(x_n, c(x_n))} ⊆ X x C\n",
    "### Where X x C represents the Cartesian product, all possible combinations of a feature vector with a class.\n",
    "### The construction of this function c is the soltuion of the classification problem."
   ]
  },
  {
   "cell_type": "markdown",
   "id": "8e370388",
   "metadata": {},
   "source": [
    "## In a similar manner, the solution of a regression problem simply redefines C, which instead corresponds to Y ⊆ R^n for this context."
   ]
  },
  {
   "cell_type": "code",
   "execution_count": 1,
   "id": "af02285a",
   "metadata": {},
   "outputs": [],
   "source": [
    "import numpy as np\n",
    "\n",
    "np.random.seed(42)\n",
    "\n",
    "fString = open(\"diagnosis.data\", \"r\", encoding=\"utf-16\")\n",
    "fFloat = open(\"diagnosis.csv\", \"w\")\n",
    "for line in fString:\n",
    "    line = line.replace(\",\", \".\")\n",
    "    line = line.replace(\"\\t\", \",\")\n",
    "    line = line.replace(\"yes\", \"1\")\n",
    "    line = line.replace(\"no\", \"0\")\n",
    "    line = line.replace(\"\\r\\n\", \"\\n\")\n",
    "    fFloat.write(line)\n",
    "fString.close()\n",
    "fFloat.close()\n",
    "\n",
    "fFloat = open(\"diagnosis.csv\", \"r\")\n",
    "dataset = np.loadtxt(fFloat, delimiter=\",\")\n",
    "fFloat.close()"
   ]
  },
  {
   "cell_type": "code",
   "execution_count": 2,
   "id": "9b5d89d3",
   "metadata": {},
   "outputs": [],
   "source": [
    "X = dataset[:,1:6]\n",
    "Y = dataset[:,6]\n",
    "allData = np.arange(0, X.shape[0])\n",
    "iTesting = np.random.choice(X.shape[0], int(X.shape[0]*0.2), replace=False)\n",
    "iTraining = np.delete(allData, iTesting)\n",
    "dataRecords = len(iTraining)\n",
    "XTrain = X[iTraining, :]\n",
    "YTrain = Y[iTraining]"
   ]
  },
  {
   "cell_type": "markdown",
   "id": "fa0f16bb",
   "metadata": {},
   "source": [
    "# Naive Bayes Classifier: Probability estimation using the Assumption of Feature Indepence"
   ]
  },
  {
   "cell_type": "markdown",
   "id": "7f0cc3cd",
   "metadata": {},
   "source": [
    "$$\n",
    "P(i|x) = \\frac{\\prod_{k=1}^{m} P(x^{(k)}|i) \\cdot P(i)}{\\sum_{j=1}^{N} P(j) \\cdot \\prod_{k=1}^m P(x^{(k)}|j)}\n",
    "$$"
   ]
  },
  {
   "cell_type": "code",
   "execution_count": 3,
   "id": "0f0f5e74",
   "metadata": {},
   "outputs": [],
   "source": [
    "PIX = np.zeros( (2, XTrain.shape[1],2))\n",
    "# Matrix of feature shapes (5)\n",
    "PI = np.zeros(2)\n",
    "# for k in range number of features (m)\n",
    "for k in range(X.shape[1]):\n",
    "    \n",
    "    # Generally PIX[l,k,i], where x^k=l = P(x^k=l|i)\n",
    "    \n",
    "    # Number of samples where feature k is True AND the result is also true\n",
    "    # Equal to Sum(x^k|i)\n",
    "    PIX[0,k,0] = np.sum(np.logical_and(XTrain[:,k], YTrain))\n",
    "    # Number of samples where feature k is False AND the result is true\n",
    "    # Equal to Sum(i)-Sum(x^k|i) \n",
    "    PIX[0,k,1] = np.sum(np.logical_and(np.logical_not(XTrain[:,k]), YTrain))\n",
    "    # # Number of samples where feature k is True AND the result is False\n",
    "    # Equal to Sum(x^k|!i)\n",
    "    PIX[1,k,0] = np.sum(np.logical_and(XTrain[:,k], np.logical_not(YTrain)))\n",
    "    # # Number of samples where feature k is False AND the result is also False\n",
    "    # Equal to Sum(!i) - Sum(x^k|!i)\n",
    "    PIX[1,k,1] = np.sum(np.logical_not(np.logical_or(XTrain[:,k], YTrain)))\n",
    "# Sum(i)\n",
    "PI[0] = np.sum(YTrain)\n",
    "# Sum(!i)\n",
    "PI[1] = dataRecords-PI[0]"
   ]
  },
  {
   "cell_type": "code",
   "execution_count": 25,
   "id": "e80294f8",
   "metadata": {},
   "outputs": [],
   "source": [
    "# Accounting for missing combinations, such as PIX[0,2,1] by adding one distributed occurence to all entries\n",
    "PIX = (PIX+1/2) / (dataRecords+1)\n",
    "# normalizing through datarecords plus added occurence\n",
    "PI = PI / dataRecords"
   ]
  },
  {
   "cell_type": "code",
   "execution_count": 5,
   "id": "f7a4451e",
   "metadata": {},
   "outputs": [
    {
     "data": {
      "text/plain": [
       "array([0, 1, 2, 3, 4])"
      ]
     },
     "execution_count": 5,
     "metadata": {},
     "output_type": "execute_result"
    }
   ],
   "source": [
    "np.arange(XTrain.shape[1])"
   ]
  },
  {
   "cell_type": "code",
   "execution_count": 6,
   "id": "2e3ffb5c",
   "metadata": {},
   "outputs": [],
   "source": [
    "def predictNaiveBayesNominal(l):\n",
    "    P = np.zeros_like(PI)\n",
    "    # range of all features\n",
    "    x = np.arange(XTrain.shape[1])\n",
    "    for j in range(len(PI)):\n",
    "        # product of P(x^k=l|i) for features with given values for class value j\n",
    "        # Note that this is fixed for the numerator, but always summed up for the denominator, regardless of i\n",
    "        P[j] = np.prod(PIX[j, x, l])*PI[j]\n",
    "        #      P(x^(k)|j) * P(j) in formula above (without the summation)\n",
    "    \n",
    "    # Applying summation for the denominator, as just calculated\n",
    "    denominator = np.sum(P)\n",
    "    # Dividing the respective class-specific products by the unfixed probability of f(x)\n",
    "    P = P/denominator\n",
    "    # choose class with maximum probability\n",
    "    chosenClass = np.argmax(P)\n",
    "    return chosenClass"
   ]
  },
  {
   "cell_type": "code",
   "execution_count": 7,
   "id": "411257b8",
   "metadata": {},
   "outputs": [],
   "source": [
    "correct = np.zeros(2)\n",
    "incorrect = np.zeros(2)\n",
    "\n",
    "XTest = X[iTesting,:]\n",
    "YTest = Y[iTesting]\n",
    "\n",
    "for i in range(XTest.shape[0]):\n",
    "    Class = predictNaiveBayesNominal(XTest[i,:].astype(int))\n",
    "    if(Class == YTest[i]):\n",
    "        correct[Class] = correct[Class] + 1\n",
    "    else:\n",
    "        incorrect[Class] = incorrect[Class] + 1"
   ]
  },
  {
   "cell_type": "code",
   "execution_count": 8,
   "id": "b95e9ac6",
   "metadata": {},
   "outputs": [
    {
     "name": "stdout",
     "output_type": "stream",
     "text": [
      "[ 7. 12.]\n",
      "[0. 5.]\n"
     ]
    }
   ],
   "source": [
    "print(correct)\n",
    "print(incorrect)"
   ]
  },
  {
   "cell_type": "markdown",
   "id": "8f766be1",
   "metadata": {},
   "source": [
    "## Introducing Cardinal Scale feature: Temperature"
   ]
  },
  {
   "cell_type": "code",
   "execution_count": 9,
   "id": "ad006c76",
   "metadata": {},
   "outputs": [],
   "source": [
    "# We assume a gaussian normal distribution, which we would like to confirm using a basic histogram\n",
    "\n",
    "T = dataset[:,0]\n",
    "trueIndex = np.flatnonzero(YTrain==1)\n",
    "falseIndex = np.flatnonzero(YTrain==0)\n",
    "# mu = sum_t=0_to_s (T/n)\n",
    "muApproxTrue = np.sum(T[trueIndex])/trueIndex.shape[0]\n",
    "# sigma^2 = sum_t=0_to_s (T-mu)^2/n-1 (using Bessel's correction)\n",
    "sgApproxTrue = np.sum( (T[trueIndex]-muApproxTrue)**2) / (trueIndex.shape[0] -1)\n",
    "# Same for the distribution of healthy patients\n",
    "muApproxFalse = np.sum(T[falseIndex])/falseIndex.shape[0]\n",
    "sgApproxFalse = np.sum( (T[falseIndex]-muApproxFalse)**2 ) / (falseIndex.shape[0] - 1)"
   ]
  },
  {
   "cell_type": "markdown",
   "id": "f19b8c2b",
   "metadata": {},
   "source": [
    "### Applying standard gaussian distribution\n",
    "$$\n",
    "y = \\frac{e^{-0.5 \\left(\\frac{x - \\mu}{\\sigma}\\right)^2}}{\\sigma \\sqrt{2\\pi}}\n",
    "$$"
   ]
  },
  {
   "cell_type": "code",
   "execution_count": 10,
   "id": "2e16f3c7",
   "metadata": {},
   "outputs": [],
   "source": [
    "def GaussianDistribution(x, mu, sigma):\n",
    "    # (e^-1/2* ((x-mu)/sig)^2)/(sigma*sqrt(2*pi)) \n",
    "    y = np.exp(-0.5*( (x-mu)/sigma)**2)/(sigma*np.sqrt(2*np.pi))\n",
    "    return y"
   ]
  },
  {
   "cell_type": "code",
   "execution_count": 11,
   "id": "bc855d5d",
   "metadata": {},
   "outputs": [
    {
     "data": {
      "image/png": "[encoded data removed]",
      "text/plain": [
       "<Figure size 1080x360 with 3 Axes>"
      ]
     },
     "metadata": {
      "needs_background": "light"
     },
     "output_type": "display_data"
    }
   ],
   "source": [
    "import matplotlib.pyplot as plt\n",
    "\n",
    "fig = plt.figure(figsize=(15, 5)) \n",
    "ax = fig.add_subplot(131)\n",
    "ax.hist(T[:],15,density=1, facecolor='k', alpha=0.5)\n",
    "ax.set_xlabel('Temperature')\n",
    "ax.set_ylabel('Probability')\n",
    "Tplot = np.arange(33,44,0.05)\n",
    "ax.plot(Tplot, GaussianDistribution(Tplot, muApproxTrue, sgApproxTrue), 'k:')\n",
    "ax.plot(Tplot, GaussianDistribution(Tplot, muApproxFalse, sgApproxFalse), 'k-.')\n",
    "ax.set_ylim([0,0.8])\n",
    "ax.set_title('All Training data')\n",
    "ax = fig.add_subplot(132)\n",
    "ax.hist(T[falseIndex],15,density=1, facecolor='k',alpha=0.5)\n",
    "ax.set_xlabel('Temperature')\n",
    "ax.plot(Tplot, GaussianDistribution(Tplot, muApproxFalse, sgApproxFalse), 'k-.')\n",
    "ax.set_ylim([0,0.8])\n",
    "ax.set_title('Negative Diagnosis')\n",
    "ax = fig.add_subplot(133)\n",
    "ax.hist(T[trueIndex],15,density=1, facecolor='k',alpha=0.5)\n",
    "ax.set_xlabel('Temperature')\n",
    "ax.plot(Tplot, GaussianDistribution(Tplot, muApproxTrue,sgApproxTrue), 'k:')\n",
    "ax.set_ylim([0,0.8])\n",
    "ax.set_title('Positive Diagnosis')\n",
    "plt.tight_layout()\n",
    "plt.show(block=False)"
   ]
  },
  {
   "cell_type": "code",
   "execution_count": 32,
   "id": "2ff86188",
   "metadata": {},
   "outputs": [],
   "source": [
    "def predictNaiveBayesMixed(x, T, muTrue, sigmaTrue, muFalse, sigmaFalse):\n",
    "    P = np.zeros_like(PI)\n",
    "    allofthem = np.arange(XTrain.shape[1])\n",
    "    P[0] = np.prod(PIX[0, allofthem, x])*PI[0]\n",
    "    P[1] = np.prod(PIX[1, allofthem, x])*PI[1]\n",
    "    P[0] = P[0]*GaussianDistribution(T, muFalse, sigmaFalse)\n",
    "    P[1] = P[1]*GaussianDistribution(T, muTrue, sigmaTrue)\n",
    "    chosenClass = np.argmax(P)\n",
    "    return chosenClass"
   ]
  },
  {
   "cell_type": "code",
   "execution_count": 33,
   "id": "534a401f",
   "metadata": {},
   "outputs": [],
   "source": [
    "XTest = X[iTesting, :]\n",
    "YTest = Y[iTesting]\n",
    "correct = np.zeros(2)\n",
    "incorrect = np.zeros(2)\n",
    "TTest = T[iTesting]\n",
    "def TestNaiveBayesMixed(muTrue, sigmaTrue, muFalse, sigmaFalse):\n",
    "    correct = np.zeros(2)\n",
    "    incorrect = np.zeros(2)\n",
    "    for i in range(XTest.shape[0]):\n",
    "        Class = predictNaiveBayesMixed(XTest[i,:].astype(int), TTest[i], muTrue, sigmaTrue, muFalse, sigmaFalse)\n",
    "        if Class == YTest[i]:\n",
    "            correct[Class] = correct[Class] + 1\n",
    "        else:\n",
    "            incorrect[Class] = incorrect[Class] + 1\n",
    "    return (correct, incorrect)\n",
    "\n",
    "(correct, incorrect) = TestNaiveBayesMixed(muApproxTrue, sgApproxTrue, muApproxFalse, sgApproxFalse)"
   ]
  },
  {
   "cell_type": "code",
   "execution_count": 14,
   "id": "c0a2096b",
   "metadata": {},
   "outputs": [
    {
     "name": "stdout",
     "output_type": "stream",
     "text": [
      "[ 7. 12.]\n",
      "[0. 5.]\n"
     ]
    }
   ],
   "source": [
    "print(correct)\n",
    "print(incorrect)"
   ]
  },
  {
   "cell_type": "code",
   "execution_count": 15,
   "id": "65647fa7",
   "metadata": {},
   "outputs": [
    {
     "name": "stdout",
     "output_type": "stream",
     "text": [
      "Average accuracy over 5-fold cross validation: 0.825\n"
     ]
    }
   ],
   "source": [
    "kfold = 5\n",
    "allCorrect = 0\n",
    "allInCorrect = 0\n",
    "for holdout in range(5):\n",
    "    \n",
    "    ## Training\n",
    "    \n",
    "    PIX = np.zeros( (2, XTrain.shape[1],2))\n",
    "    # Matrix of feature shapes (5)\n",
    "    PI = np.zeros(2)\n",
    "    # for k in range number of features (m)\n",
    "    for k in range(X.shape[1]):\n",
    "\n",
    "        # Generally PIX[l,k,i], where x^k=l = P(x^k=l|i)\n",
    "\n",
    "        # Number of samples where feature k is True AND the result is also true\n",
    "        # Equal to Sum(x^k|i)\n",
    "        PIX[0,k,0] = np.sum(np.logical_and(XTrain[:,k], YTrain))\n",
    "        # Number of samples where feature k is False AND the result is true\n",
    "        # Equal to Sum(i)-Sum(x^k|i) \n",
    "        PIX[0,k,1] = np.sum(np.logical_and(np.logical_not(XTrain[:,k]), YTrain))\n",
    "        # # Number of samples where feature k is True AND the result is False\n",
    "        # Equal to Sum(x^k|!i)\n",
    "        PIX[1,k,0] = np.sum(np.logical_and(XTrain[:,k], np.logical_not(YTrain)))\n",
    "        # # Number of samples where feature k is False AND the result is also False\n",
    "        # Equal to Sum(!i) - Sum(x^k|!i)\n",
    "        PIX[1,k,1] = np.sum(np.logical_not(np.logical_or(XTrain[:,k], YTrain)))\n",
    "    # Sum(i)\n",
    "    PI[0] = np.sum(YTrain)\n",
    "    # Sum(!i)\n",
    "    PI[1] = dataRecords-PI[0]\n",
    "    \n",
    "    ## Testing \n",
    "    \n",
    "    correct = np.zeros(2)\n",
    "    incorrect = np.zeros(2)\n",
    "    \n",
    "    XTest = X[[x for x in allData if x not in range(holdout*(len(allData)//kfold),(holdout+1)*(len(allData)//kfold))],:]\n",
    "    YTest = Y[[x for x in allData if x not in range(holdout*(len(allData)//kfold),(holdout+1)*(len(allData)//kfold))]]\n",
    "\n",
    "    for i in range(XTest.shape[0]):\n",
    "        Class = predictNaiveBayesNominal(XTest[i,:].astype(int))\n",
    "        if(Class == YTest[i]):\n",
    "            correct[Class] = correct[Class] + 1\n",
    "        else:\n",
    "            incorrect[Class] = incorrect[Class] + 1\n",
    "    allCorrect += sum(correct)\n",
    "    allInCorrect +=sum(incorrect)\n",
    "    \n",
    "print(f'Average accuracy over {kfold}-fold cross validation: {allCorrect/(allCorrect+allInCorrect)}')\n"
   ]
  },
  {
   "cell_type": "code",
   "execution_count": 17,
   "id": "4029f972",
   "metadata": {},
   "outputs": [
    {
     "data": {
      "text/plain": [
       "array([37.5, 37.6, 36. , 37.9, 37. , 38.5, 40. , 36.6, 37.5, 41.1, 36.9,\n",
       "       38.1, 36.6, 37.3, 40.6, 40.6, 41.1, 35.5, 40.5, 41. , 38.7, 37.6,\n",
       "       37.2, 40. ])"
      ]
     },
     "execution_count": 17,
     "metadata": {},
     "output_type": "execute_result"
    }
   ],
   "source": [
    "T[iTesting]"
   ]
  },
  {
   "cell_type": "code",
   "execution_count": null,
   "id": "43963316",
   "metadata": {},
   "outputs": [],
   "source": []
  }
 ],
 "metadata": {
  "kernelspec": {
   "display_name": "Python 3 (ipykernel)",
   "language": "python",
   "name": "python3"
  },
  "language_info": {
   "codemirror_mode": {
    "name": "ipython",
    "version": 3
   },
   "file_extension": ".py",
   "mimetype": "text/x-python",
   "name": "python",
   "nbconvert_exporter": "python",
   "pygments_lexer": "ipython3",
   "version": "3.8.12"
  }
 },
 "nbformat": 4,
 "nbformat_minor": 5
}
