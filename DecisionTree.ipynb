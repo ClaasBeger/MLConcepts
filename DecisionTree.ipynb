{
 "cells": [
  {
   "cell_type": "code",
   "execution_count": 1,
   "id": "f6f7bcf6",
   "metadata": {},
   "outputs": [],
   "source": [
    "import numpy as np\n",
    "\n",
    "class tree:\n",
    "    def __init__(self, varNo, value, operator):\n",
    "        self.rootNode = treeNode(0, value, varNo=varNo, operator=operator) # index 0 because it is the root node\n",
    "        self.nodes = []\n",
    "        self.nodes.append(self.rootNode)\n",
    "        self.leafNodes = []\n",
    "        self.leafNodes.append(0) # initialize leaf node list for later analysis\n",
    "    \n",
    "    def addNode(self, ChildOf, branch, value, operator='<', varNo=0):\n",
    "        node = treeNode(len(self.nodes),value,ChildOf=ChildOf,operator=operator,varNo=varNo)\n",
    "        self.leafNodes.append(node.number)\n",
    "        self.nodes.append(node)\n",
    "        \n",
    "        parent = self.nodes[ChildOf]\n",
    "        if branch:\n",
    "            parent.leftTrue = node\n",
    "        else: \n",
    "            parent.rightFalse = node\n",
    "            \n",
    "        if parent.leftTrue is not None and parent.rightFalse is not None: # parent is no longer a leaf node\n",
    "            toDelete = self.leafNodes.index(parent.number)\n",
    "            del self.leafNodes[toDelete]\n",
    "        \n",
    "        return(node.number)\n",
    "    \n",
    "    \n",
    "    def trace(self, x):\n",
    "        traceRoute = self.rootNode.trace(x)[0] # traverse the tree by orientating along route x for respective children\n",
    "        return traceRoute # list of lists which display which nodes were traversed for a given feature vector (last node is corresponding leaf)\n",
    "    \n",
    "    def eval(self, x):\n",
    "        traceRoute = self.trace(x)\n",
    "        y = np.zeros(len(traceRoute))\n",
    "        for i in range(len(y)):\n",
    "            # write down last element of corresponding traceRoutes, and access the associated node value to write in return vector\n",
    "            y[i] = self.nodes[traceRoute[i][-1]]()\n",
    "        return(y)\n",
    "    "
   ]
  },
  {
   "cell_type": "code",
   "execution_count": null,
   "id": "c289ef07",
   "metadata": {},
   "outputs": [],
   "source": []
  },
  {
   "cell_type": "code",
   "execution_count": 9,
   "id": "3c8edb8d",
   "metadata": {},
   "outputs": [],
   "source": [
    "class treeNode:\n",
    "    def __init__(self, number, value, ChildOf=None, operator='<', varNo=0):\n",
    "        self.number = number\n",
    "        self.childOf = ChildOf\n",
    "        self.leftTrue = None\n",
    "        self.rightFalse = None\n",
    "        self.value = value\n",
    "        self.varNo = varNo\n",
    "        self.operator = operator\n",
    "    \n",
    "    def __call__(self):\n",
    "        return(self.value)\n",
    "    \n",
    "    def leafNode(self):\n",
    "        if self.leftTrue is not None and self.rightFalse is not None:\n",
    "            return(False)\n",
    "        else:\n",
    "            return True\n",
    "    \n",
    "    def evalCondition(self, x):\n",
    "        # evalute given condition (speficified as string in operator attribute) on feature x\n",
    "        if self.operator == '=':\n",
    "            # for all samples, filter out variable at given position and evaluate according to operation\n",
    "            cond = x[:, self.varNo] == self.value\n",
    "        elif self.operator == '<':\n",
    "            cond = x[:, self.varNo] < self.value\n",
    "        else: #case >\n",
    "            cond = x[:, self.varNo] > self.value\n",
    "        return cond\n",
    "    \n",
    "    def trace(self, x, index=None, traceRoute=None):\n",
    "        if index is None:\n",
    "            # match feature vectors (samples) to its position in the sample collection\n",
    "            index = np.arange(len(x))\n",
    "        if traceRoute is None:\n",
    "            # initiate a corresponding empty list for each of the given features in one sample (for all samples)\n",
    "            traceRoute = [[] for x in range(len(x))]\n",
    "            \n",
    "        # for every given sample \n",
    "        for k in index:\n",
    "            # append our number to the traceRoute for a given sample\n",
    "            traceRoute[k].append(self.number)\n",
    "\n",
    "        if self.leafNode():\n",
    "            return (traceRoute, index) # if we arrive at a leaf the corresponding route is finished\n",
    "\n",
    "        cond = self.evalCondition(x[index]) # evalute the given condition according to the node operator for all indexed samples\n",
    "        \n",
    "        trueIndex = index[cond] # stack of feature vectors for which the evaluation was positive (used as a filter for next trace)\n",
    "        falseIndex = index[~cond] # stack of feature vectors for which the evaluation was negative (used as a filter for next trace)\n",
    "\n",
    "        if self.leftTrue is not None and trueIndex.size != 0: # if there is a left child and we have at least one route that leads there\n",
    "            traceRoute = self.leftTrue.trace(x, trueIndex, traceRoute)[0] # continue trace at left node with filtered index and existing route (filter traceRoute from return value)\n",
    "        if self.rightFalse is not None and falseIndex.size != 0: # same for right\n",
    "            traceRoute = self.rightFalse.trace(x, falseIndex, traceRoute)[0]\n",
    "        return (traceRoute, index)\n"
   ]
  },
  {
   "cell_type": "code",
   "execution_count": 11,
   "id": "411e301b",
   "metadata": {},
   "outputs": [],
   "source": [
    "# manually build a simple (pure) decision tree structure\n",
    "bicycleTree = tree(0,1,'=')\n",
    "No = bicycleTree.addNode(0,False,1,varNo=1,operator='=')\n",
    "bicycleTree.addNode(No, False, 0)\n",
    "bicycleTree.addNode(No, True, 1)\n",
    "No = bicycleTree.addNode(0, True, 1, varNo=2, operator='=')\n",
    "bicycleTree.addNode(No, True, 0)\n",
    "No = bicycleTree.addNode(No, False, 1, varNo=3, operator='=')\n",
    "bicycleTree.addNode(No, True, 0)\n",
    "bicycleTree.addNode(No, False, 1)\n",
    "\n",
    "# build a sample\n",
    "x = np.array([True, False, False, False]).reshape(1,4)\n",
    "# evaluate and trace\n",
    "y = bicycleTree.eval(x)\n",
    "traceRoute = bicycleTree.trace(x)"
   ]
  },
  {
   "cell_type": "code",
   "execution_count": 12,
   "id": "8fbe46b2",
   "metadata": {},
   "outputs": [
    {
     "data": {
      "text/plain": [
       "[[0, 4, 6, 8]]"
      ]
     },
     "execution_count": 12,
     "metadata": {},
     "output_type": "execute_result"
    }
   ],
   "source": [
    "traceRoute # traversal of node 0, 4, 6 and arrival at leaf 8"
   ]
  },
  {
   "cell_type": "code",
   "execution_count": 14,
   "id": "f0949f3a",
   "metadata": {},
   "outputs": [],
   "source": [
    "# stack samples to test parallel execution\n",
    "x = np.random.randint(2, size=(10, 4))\n",
    "# evaluate and trace\n",
    "y = bicycleTree.eval(x)\n",
    "traceRoute = bicycleTree.trace(x)"
   ]
  },
  {
   "cell_type": "code",
   "execution_count": 15,
   "id": "96a6a95b",
   "metadata": {},
   "outputs": [
    {
     "data": {
      "text/plain": [
       "[[0, 1, 3],\n",
       " [0, 4, 5],\n",
       " [0, 4, 6, 8],\n",
       " [0, 4, 6, 8],\n",
       " [0, 1, 2],\n",
       " [0, 4, 5],\n",
       " [0, 4, 6, 8],\n",
       " [0, 4, 6, 8],\n",
       " [0, 4, 5],\n",
       " [0, 4, 6, 8]]"
      ]
     },
     "execution_count": 15,
     "metadata": {},
     "output_type": "execute_result"
    }
   ],
   "source": [
    "# Start with automatic tree generation using the Iterative Dichotomiser 3 algorithm\n"
   ]
  },
  {
   "cell_type": "code",
   "execution_count": 2,
   "id": "0d5d189b",
   "metadata": {
    "tags": []
   },
   "outputs": [],
   "source": [
    "import numpy as np\n",
    "\n",
    "def weightedSelfInformation(x):\n",
    "    y = 0 if x <= 0 else x*np.log2(x)\n",
    "    return (y)"
   ]
  },
  {
   "cell_type": "code",
   "execution_count": 6,
   "id": "9e704611-0e83-45f8-b187-f8016197dd1f",
   "metadata": {
    "tags": []
   },
   "outputs": [],
   "source": [
    "def calConditionalEntropy(y,D,Feature):\n",
    "    sizeDataBase = D.shape[0]\n",
    "    D = D.astype(bool)\n",
    "    TrueFeatureDatabase = np.sum(D[:,Feature])\n",
    "    FalseFeatureDatabase = sizeDataBase - TrueFeatureDatabase\n",
    "    PFeatureTrue = TrueFeatureDatabase/sizeDataBase\n",
    "    PFeatureFalse = FalseFeatureDatabase/sizeDataBase\n",
    "    \n",
    "    Htrue = 0\n",
    "    if PFeatureTrue>0:\n",
    "        P_AB_True = TrueFeatureDatabase - np.sum(np.logical_and(D[:,Feature],y))\n",
    "        P_AB_False = TrueFeatureDatabase - P_AB_True\n",
    "        P_AB_True = P_AB_True/TrueFeatureDatabase\n",
    "        P_AB_False = P_AB_False/TrueFeatureDatabase\n",
    "        Htrue = PFeatureTrue * (weightedSelfInformation(P_AB_False) + weightedSelfInformation(P_AB_True))\n",
    "    Hfalse = 0\n",
    "    if PFeatureFalse == P_AB_False/FalseFeatureDatabase:\n",
    "        P_AB_True = FalseFeatureDatabase - np-sum(np.logical_and(~D[:,Feature], y))\n",
    "        P_AB_False = FalseFeatureDatabase - P_AB_True\n",
    "        P_AB_True = P_AB_True/FalseFeatureDatabase\n",
    "        P_AB_False = P_AB_False/FalseFeatureDatabase\n",
    "        Hfalse = PFeatureFalse * (weightedSelfInformation(P_AB_False) + weightedSelfInformation(P_AB_True))\n",
    "    \n",
    "    H = -Htrue - Hfalse\n",
    "    return H"
   ]
  },
  {
   "cell_type": "code",
   "execution_count": null,
   "id": "65494c4d-eb14-4c20-b32c-6cf74de17713",
   "metadata": {},
   "outputs": [],
   "source": []
  }
 ],
 "metadata": {
  "kernelspec": {
   "display_name": "Python 3 (ipykernel)",
   "language": "python",
   "name": "python3"
  },
  "language_info": {
   "codemirror_mode": {
    "name": "ipython",
    "version": 3
   },
   "file_extension": ".py",
   "mimetype": "text/x-python",
   "name": "python",
   "nbconvert_exporter": "python",
   "pygments_lexer": "ipython3",
   "version": "3.11.8"
  }
 },
 "nbformat": 4,
 "nbformat_minor": 5
}
