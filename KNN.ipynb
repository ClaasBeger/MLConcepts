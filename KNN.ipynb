{
 "cells": [
  {
   "cell_type": "code",
   "execution_count": 2,
   "id": "89581652",
   "metadata": {},
   "outputs": [],
   "source": [
    "import numpy as np\n",
    "\n",
    "fFloat = open(\"iris.csv\", \"r\")\n",
    "dataset = np.loadtxt(fFloat, delimiter=\",\")\n",
    "fFloat.close()\n",
    "\n",
    "x = dataset[:,0:4]\n",
    "y = dataset[:,4]\n",
    "percentTrainingset = 0.8\n",
    "np.random.seed(42)\n",
    "TrainSet = np.random.choice(x.shape[0], int(x.shape[0]*percentTrainingset), replace=False)\n",
    "XTrain = x[TrainSet,:]\n",
    "YTrain = y[TrainSet]\n",
    "TestSet = np.delete(np.arange(0, len(y)), TrainSet)\n",
    "XTest = x[TestSet,:]\n",
    "YTest = y[TestSet]"
   ]
  },
  {
   "cell_type": "code",
   "execution_count": 3,
   "id": "626e887c",
   "metadata": {},
   "outputs": [],
   "source": [
    "def plainKNNclassification(xTrain, yTrain, xQuery, k, normOrd=None):\n",
    "    xMin = xTrain.min(axis=0)\n",
    "    xMax = xTrain.max(axis=0)\n",
    "    xTrain = (xTrain - xMin) / (xMax-xMin)\n",
    "    xQuery = (xQuery - xMin) / (xMax - xMin)\n",
    "    diff = xTrain - xQuery\n",
    "    dist = np.linalg.norm(diff, axis=1, ord=normOrd)\n",
    "    knearest = np.argsort(dist)[:k]\n",
    "    (classification, counts) = np.unique(YTrain[knearest], return_counts=True)\n",
    "    chosenClass = np.argmax(counts)\n",
    "    return (classification[chosenClass])"
   ]
  },
  {
   "cell_type": "code",
   "execution_count": null,
   "id": "1eb66663",
   "metadata": {},
   "outputs": [],
   "source": []
  }
 ],
 "metadata": {
  "kernelspec": {
   "display_name": "Python 3 (ipykernel)",
   "language": "python",
   "name": "python3"
  },
  "language_info": {
   "codemirror_mode": {
    "name": "ipython",
    "version": 3
   },
   "file_extension": ".py",
   "mimetype": "text/x-python",
   "name": "python",
   "nbconvert_exporter": "python",
   "pygments_lexer": "ipython3",
   "version": "3.8.12"
  }
 },
 "nbformat": 4,
 "nbformat_minor": 5
}
